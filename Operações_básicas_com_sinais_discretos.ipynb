{
  "nbformat": 4,
  "nbformat_minor": 0,
  "metadata": {
    "colab": {
      "provenance": [],
      "toc_visible": true,
      "include_colab_link": true
    },
    "kernelspec": {
      "name": "python3",
      "display_name": "Python 3"
    },
    "language_info": {
      "name": "python"
    }
  },
  "cells": [
    {
      "cell_type": "markdown",
      "metadata": {
        "id": "view-in-github",
        "colab_type": "text"
      },
      "source": [
        "<a href=\"https://colab.research.google.com/github/MatheusrCunha/py_class/blob/main/Opera%C3%A7%C3%B5es_b%C3%A1sicas_com_sinais_discretos.ipynb\" target=\"_parent\"><img src=\"https://colab.research.google.com/assets/colab-badge.svg\" alt=\"Open In Colab\"/></a>"
      ]
    },
    {
      "cell_type": "code",
      "execution_count": null,
      "metadata": {
        "id": "X1rPfXtak3a4"
      },
      "outputs": [],
      "source": [
        "import numpy as np # importa uma biblioteca de computação matricial\n",
        "import matplotlib.pyplot as plt # importa uma biblioteca de visualização de dados"
      ]
    },
    {
      "cell_type": "code",
      "source": [
        "n = np.arange(-1,4,1) # criação de índices amostrais\n",
        "print(n)"
      ],
      "metadata": {
        "colab": {
          "base_uri": "https://localhost:8080/"
        },
        "id": "HEgdjvHt7qO6",
        "outputId": "ee12c9b2-9f9e-464f-e5f8-1e50c145b506"
      },
      "execution_count": null,
      "outputs": [
        {
          "output_type": "stream",
          "name": "stdout",
          "text": [
            "[-1  0  1  2  3]\n"
          ]
        }
      ]
    },
    {
      "cell_type": "markdown",
      "source": [
        "Criação de dois sinais discretos como vetores:"
      ],
      "metadata": {
        "id": "3_dppRwgyXTw"
      }
    },
    {
      "cell_type": "code",
      "source": [
        "x1 = np.array([-1,0,2,1,1]) # exemplo de vetor linha\n",
        "x2 = np.array([0, -1, -1, 1, -2])\n",
        "print(x1) # retorna x1\n",
        "print(x2)"
      ],
      "metadata": {
        "id": "Hrn6WynJlZI3",
        "colab": {
          "base_uri": "https://localhost:8080/"
        },
        "outputId": "4cb1c5d3-fcae-4001-d2d3-d8a2f20abb2d"
      },
      "execution_count": null,
      "outputs": [
        {
          "output_type": "stream",
          "name": "stdout",
          "text": [
            "[-1  0  2  1  1]\n",
            "[ 0 -1 -1  1 -2]\n"
          ]
        }
      ]
    },
    {
      "cell_type": "code",
      "source": [
        "plt.figure()\n",
        "plt.stem(n,x1)\n",
        "plt.title('x1')\n",
        "plt.grid()\n",
        "plt.figure()\n",
        "plt.stem(n,x2)\n",
        "plt.title('x2')\n",
        "plt.grid()"
      ],
      "metadata": {
        "colab": {
          "base_uri": "https://localhost:8080/",
          "height": 545
        },
        "id": "Bcr6XWuX6lwE",
        "outputId": "b958f6aa-8366-4b3b-a3cd-663de973f227"
      },
      "execution_count": null,
      "outputs": [
        {
          "output_type": "display_data",
          "data": {
            "text/plain": [
              "<Figure size 432x288 with 1 Axes>"
            ],
            "image/png": "[encoded data removed]"
          },
          "metadata": {
            "needs_background": "light"
          }
        },
        {
          "output_type": "display_data",
          "data": {
            "text/plain": [
              "<Figure size 432x288 with 1 Axes>"
            ],
            "image/png": "[encoded data removed]"
          },
          "metadata": {
            "needs_background": "light"
          }
        }
      ]
    },
    {
      "cell_type": "markdown",
      "source": [
        "Soma:"
      ],
      "metadata": {
        "id": "ESi931bDAqHS"
      }
    },
    {
      "cell_type": "code",
      "source": [
        "x3 = x1+x2\n",
        "plt.figure()\n",
        "plt.stem(n,x3)\n",
        "plt.grid()\n",
        "plt.title('x3')"
      ],
      "metadata": {
        "colab": {
          "base_uri": "https://localhost:8080/",
          "height": 353
        },
        "id": "tG4gZTbG_pNH",
        "outputId": "8fc372c6-9279-475d-db6a-2e38403aee47"
      },
      "execution_count": null,
      "outputs": [
        {
          "output_type": "stream",
          "name": "stderr",
          "text": [
            "<ipython-input-6-b400f966a04e>:3: UserWarning: In Matplotlib 3.3 individual lines on a stem plot will be added as a LineCollection instead of individual lines. This significantly improves the performance of a stem plot. To remove this warning and switch to the new behaviour, set the \"use_line_collection\" keyword argument to True.\n",
            "  plt.stem(n,x3)\n"
          ]
        },
        {
          "output_type": "execute_result",
          "data": {
            "text/plain": [
              "Text(0.5, 1.0, 'x3')"
            ]
          },
          "metadata": {},
          "execution_count": 6
        },
        {
          "output_type": "display_data",
          "data": {
            "text/plain": [
              "<Figure size 432x288 with 1 Axes>"
            ],
            "image/png": "[encoded data removed]"
          },
          "metadata": {
            "needs_background": "light"
          }
        }
      ]
    },
    {
      "cell_type": "markdown",
      "source": [
        "Multiplicação:"
      ],
      "metadata": {
        "id": "fLRZN3vtA73m"
      }
    },
    {
      "cell_type": "code",
      "source": [
        "x4 = x1*x2\n",
        "plt.figure()\n",
        "plt.stem(n,x4)\n",
        "plt.grid()\n",
        "plt.title('x4')"
      ],
      "metadata": {
        "colab": {
          "base_uri": "https://localhost:8080/",
          "height": 353
        },
        "id": "B2B3GlTdAzgw",
        "outputId": "96bde35a-0516-4ce1-a5eb-24d0fbc92a0a"
      },
      "execution_count": null,
      "outputs": [
        {
          "output_type": "stream",
          "name": "stderr",
          "text": [
            "<ipython-input-7-e60b678572c0>:3: UserWarning: In Matplotlib 3.3 individual lines on a stem plot will be added as a LineCollection instead of individual lines. This significantly improves the performance of a stem plot. To remove this warning and switch to the new behaviour, set the \"use_line_collection\" keyword argument to True.\n",
            "  plt.stem(n,x4)\n"
          ]
        },
        {
          "output_type": "execute_result",
          "data": {
            "text/plain": [
              "Text(0.5, 1.0, 'x4')"
            ]
          },
          "metadata": {},
          "execution_count": 7
        },
        {
          "output_type": "display_data",
          "data": {
            "text/plain": [
              "<Figure size 432x288 with 1 Axes>"
            ],
            "image/png": "[encoded data removed]"
          },
          "metadata": {
            "needs_background": "light"
          }
        }
      ]
    }
  ]
}