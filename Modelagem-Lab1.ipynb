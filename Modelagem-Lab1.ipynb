{
  "nbformat": 4,
  "nbformat_minor": 0,
  "metadata": {
    "colab": {
      "provenance": [],
      "include_colab_link": true
    },
    "kernelspec": {
      "name": "python3",
      "display_name": "Python 3"
    },
    "language_info": {
      "name": "python"
    }
  },
  "cells": [
    {
      "cell_type": "markdown",
      "metadata": {
        "id": "view-in-github",
        "colab_type": "text"
      },
      "source": [
        "<a href=\"https://colab.research.google.com/github/MatheusrCunha/py_class/blob/main/Modelagem-Lab1.ipynb\" target=\"_parent\"><img src=\"https://colab.research.google.com/assets/colab-badge.svg\" alt=\"Open In Colab\"/></a>"
      ]
    },
    {
      "cell_type": "code",
      "execution_count": 4,
      "metadata": {
        "colab": {
          "base_uri": "https://localhost:8080/"
        },
        "id": "nKmQhTQM9nvc",
        "outputId": "94c8975d-2a26-45be-f9fb-98d82f43fa2d"
      },
      "outputs": [
        {
          "output_type": "stream",
          "name": "stdout",
          "text": [
            "Collecting control\n",
            "  Downloading control-0.9.4-py3-none-any.whl (455 kB)\n",
            "\u001b[2K     \u001b[90m━━━━━━━━━━━━━━━━━━━━━━━━━━━━━━━━━━━━━━━\u001b[0m \u001b[32m455.1/455.1 kB\u001b[0m \u001b[31m6.3 MB/s\u001b[0m eta \u001b[36m0:00:00\u001b[0m\n",
            "\u001b[?25hRequirement already satisfied: numpy in /usr/local/lib/python3.10/dist-packages (from control) (1.23.5)\n",
            "Requirement already satisfied: scipy>=1.3 in /usr/local/lib/python3.10/dist-packages (from control) (1.10.1)\n",
            "Requirement already satisfied: matplotlib in /usr/local/lib/python3.10/dist-packages (from control) (3.7.1)\n",
            "Requirement already satisfied: contourpy>=1.0.1 in /usr/local/lib/python3.10/dist-packages (from matplotlib->control) (1.1.0)\n",
            "Requirement already satisfied: cycler>=0.10 in /usr/local/lib/python3.10/dist-packages (from matplotlib->control) (0.11.0)\n",
            "Requirement already satisfied: fonttools>=4.22.0 in /usr/local/lib/python3.10/dist-packages (from matplotlib->control) (4.42.0)\n",
            "Requirement already satisfied: kiwisolver>=1.0.1 in /usr/local/lib/python3.10/dist-packages (from matplotlib->control) (1.4.4)\n",
            "Requirement already satisfied: packaging>=20.0 in /usr/local/lib/python3.10/dist-packages (from matplotlib->control) (23.1)\n",
            "Requirement already satisfied: pillow>=6.2.0 in /usr/local/lib/python3.10/dist-packages (from matplotlib->control) (9.4.0)\n",
            "Requirement already satisfied: pyparsing>=2.3.1 in /usr/local/lib/python3.10/dist-packages (from matplotlib->control) (3.1.1)\n",
            "Requirement already satisfied: python-dateutil>=2.7 in /usr/local/lib/python3.10/dist-packages (from matplotlib->control) (2.8.2)\n",
            "Requirement already satisfied: six>=1.5 in /usr/local/lib/python3.10/dist-packages (from python-dateutil>=2.7->matplotlib->control) (1.16.0)\n",
            "Installing collected packages: control\n",
            "Successfully installed control-0.9.4\n"
          ]
        }
      ],
      "source": [
        "pip install control"
      ]
    },
    {
      "cell_type": "code",
      "source": [
        "import control as clt\n",
        "import numpy as np\n",
        "import scipy.signal as sg\n",
        "import numpy as np\n",
        "\n",
        "v = [1, 2, 3, 4, 5]\n",
        "print(v)\n",
        "n = [5, 3]\n",
        "d = [1, 6, 11, 6]\n",
        "G1 = clt.tf(n, d)\n",
        "print(G1)\n",
        "\n",
        "rn = np.roots(n)\n",
        "rd = np.roots(d)\n",
        "\n",
        "print(rn)\n",
        "print(rd)\n",
        "\n",
        "r, p, k = sg.residue(n, d)\n",
        "print(r)\n",
        "\n",
        "#reshape vetor em python"
      ],
      "metadata": {
        "colab": {
          "base_uri": "https://localhost:8080/"
        },
        "id": "osfkkDpL_JKG",
        "outputId": "e2685127-3bdb-470c-b3e6-838df84e2b6d"
      },
      "execution_count": null,
      "outputs": [
        {
          "output_type": "stream",
          "name": "stdout",
          "text": [
            "[1, 2, 3, 4, 5]\n",
            "\n",
            "       5 s + 3\n",
            "----------------------\n",
            "s^3 + 6 s^2 + 11 s + 6\n",
            "\n",
            "[-0.6]\n",
            "[-3. -2. -1.]\n",
            "[-1.  7. -6.]\n"
          ]
        }
      ]
    },
    {
      "cell_type": "code",
      "source": [
        "import control as clt\n",
        "import numpy as np\n",
        "lista = list(range(-10, 13, 2))\n",
        "print(lista)\n",
        "\n",
        "lista = list(range(-10, 13, 2))\n",
        "#lista_coluna = np.arange(1, 10, -1.5)\n",
        "z = np.arange(1, -10, -1.5)\n",
        "lista_coluna = z.reshape(-1, 1)\n",
        "print(lista_coluna)\n",
        "\n",
        "element_1 = lista_coluna[2] ** 2\n",
        "element_2 = lista_coluna[5] ** 2\n",
        "print(element_1)\n",
        "print(element_2)\n",
        "\n",
        "array = np.random.randint(10, size=(2, 5))\n",
        "print(array)\n",
        "\n",
        "columns = [2, 3, 4]\n",
        "extracted_array = array[:, columns]\n",
        "\n",
        "print(extracted_array)\n",
        "\n",
        "matrix = np.zeros((3, 3))\n",
        "print(matrix)\n",
        "\n",
        "n = [1, 4]\n",
        "d = [0, -1, -1, -1, -2]\n",
        "G1 = clt.tf(n, d)\n",
        "print(G1)\n",
        "\n",
        "n = [3]\n",
        "d = [0, ]\n",
        "G1 = clt.tf(n, d)\n",
        "print(G1)\n",
        "\n"
      ],
      "metadata": {
        "colab": {
          "base_uri": "https://localhost:8080/"
        },
        "id": "BWiAiY3qD5kE",
        "outputId": "62b3b16f-32f5-4ba0-bc7e-9e56bc2d5125"
      },
      "execution_count": 7,
      "outputs": [
        {
          "output_type": "stream",
          "name": "stdout",
          "text": [
            "[-10, -8, -6, -4, -2, 0, 2, 4, 6, 8, 10, 12]\n",
            "[[ 1. ]\n",
            " [-0.5]\n",
            " [-2. ]\n",
            " [-3.5]\n",
            " [-5. ]\n",
            " [-6.5]\n",
            " [-8. ]\n",
            " [-9.5]]\n",
            "[4.]\n",
            "[42.25]\n",
            "[[4 0 4 8 8]\n",
            " [9 0 3 8 2]]\n",
            "[[4 8 8]\n",
            " [3 8 2]]\n",
            "[[0. 0. 0.]\n",
            " [0. 0. 0.]\n",
            " [0. 0. 0.]]\n",
            "\n",
            "      s + 4\n",
            "------------------\n",
            "-s^3 - s^2 - s - 2\n",
            "\n"
          ]
        }
      ]
    },
    {
      "cell_type": "code",
      "source": [
        "try:\n",
        "    import control as ctl\n",
        "except:\n",
        "    %pip install control\n",
        "import control as ctl\n",
        "import matplotlib.pyplot as plt\n",
        "import matplotlib.cm as cm\n",
        "import numpy as np\n",
        "\n",
        "Num = input('Digite o numerador da funcao transferencia: ') #Entre com o numerador da ft, ex: (1 3) = (s + 3)\n",
        "Den = input('Digite o denominador da funcao transferencia: ') #Entre com o denominador da ft, ex: (1 2) = (s + 2)\n",
        "\n",
        "Ns = Num.split() #Retorna uma lista de string, quebra no espaço\n",
        "Ds = Den.split() #Retorna uma lista de string, quebra no espaço\n",
        "\n",
        "print('Numerador: ', Ns) #print o numerador\n",
        "print('Denominador: ', Ds) #print o denominador\n",
        "\n",
        "Numvet = list(map(float, Ns)) #Converte para float\n",
        "DenVet = list(map(float, Ds)) #Converte para float\n",
        "\n",
        "sys = ctl.tf(Numvet, DenVet) #cria a função de transferência\n",
        "print(sys) #Mostra a função de tranferência"
      ],
      "metadata": {
        "id": "FG_XzH8CXGaU",
        "outputId": "3718f141-f314-413a-9189-7a99c3df5ac6",
        "colab": {
          "base_uri": "https://localhost:8080/",
          "height": 390
        }
      },
      "execution_count": 10,
      "outputs": [
        {
          "output_type": "error",
          "ename": "KeyboardInterrupt",
          "evalue": "ignored",
          "traceback": [
            "\u001b[0;31m---------------------------------------------------------------------------\u001b[0m",
            "\u001b[0;31mKeyboardInterrupt\u001b[0m                         Traceback (most recent call last)",
            "\u001b[0;32m<ipython-input-10-3d15d94d43c0>\u001b[0m in \u001b[0;36m<cell line: 10>\u001b[0;34m()\u001b[0m\n\u001b[1;32m      8\u001b[0m \u001b[0;32mimport\u001b[0m \u001b[0mnumpy\u001b[0m \u001b[0;32mas\u001b[0m \u001b[0mnp\u001b[0m\u001b[0;34m\u001b[0m\u001b[0;34m\u001b[0m\u001b[0m\n\u001b[1;32m      9\u001b[0m \u001b[0;34m\u001b[0m\u001b[0m\n\u001b[0;32m---> 10\u001b[0;31m \u001b[0mNum\u001b[0m \u001b[0;34m=\u001b[0m \u001b[0minput\u001b[0m\u001b[0;34m(\u001b[0m\u001b[0;34m'Digite o numerador da funcao transferencia: '\u001b[0m\u001b[0;34m)\u001b[0m \u001b[0;31m#Entre com o numerador da ft, ex: (1 3) = (s + 3)\u001b[0m\u001b[0;34m\u001b[0m\u001b[0;34m\u001b[0m\u001b[0m\n\u001b[0m\u001b[1;32m     11\u001b[0m \u001b[0mDen\u001b[0m \u001b[0;34m=\u001b[0m \u001b[0minput\u001b[0m\u001b[0;34m(\u001b[0m\u001b[0;34m'Digite o denominador da funcao transferencia: '\u001b[0m\u001b[0;34m)\u001b[0m \u001b[0;31m#Entre com o denominador da ft, ex: (1 2) = (s + 2)\u001b[0m\u001b[0;34m\u001b[0m\u001b[0;34m\u001b[0m\u001b[0m\n\u001b[1;32m     12\u001b[0m \u001b[0;34m\u001b[0m\u001b[0m\n",
            "\u001b[0;32m/usr/local/lib/python3.10/dist-packages/ipykernel/kernelbase.py\u001b[0m in \u001b[0;36mraw_input\u001b[0;34m(self, prompt)\u001b[0m\n\u001b[1;32m    849\u001b[0m                 \u001b[0;34m\"raw_input was called, but this frontend does not support input requests.\"\u001b[0m\u001b[0;34m\u001b[0m\u001b[0;34m\u001b[0m\u001b[0m\n\u001b[1;32m    850\u001b[0m             )\n\u001b[0;32m--> 851\u001b[0;31m         return self._input_request(str(prompt),\n\u001b[0m\u001b[1;32m    852\u001b[0m             \u001b[0mself\u001b[0m\u001b[0;34m.\u001b[0m\u001b[0m_parent_ident\u001b[0m\u001b[0;34m,\u001b[0m\u001b[0;34m\u001b[0m\u001b[0;34m\u001b[0m\u001b[0m\n\u001b[1;32m    853\u001b[0m             \u001b[0mself\u001b[0m\u001b[0;34m.\u001b[0m\u001b[0m_parent_header\u001b[0m\u001b[0;34m,\u001b[0m\u001b[0;34m\u001b[0m\u001b[0;34m\u001b[0m\u001b[0m\n",
            "\u001b[0;32m/usr/local/lib/python3.10/dist-packages/ipykernel/kernelbase.py\u001b[0m in \u001b[0;36m_input_request\u001b[0;34m(self, prompt, ident, parent, password)\u001b[0m\n\u001b[1;32m    893\u001b[0m             \u001b[0;32mexcept\u001b[0m \u001b[0mKeyboardInterrupt\u001b[0m\u001b[0;34m:\u001b[0m\u001b[0;34m\u001b[0m\u001b[0;34m\u001b[0m\u001b[0m\n\u001b[1;32m    894\u001b[0m                 \u001b[0;31m# re-raise KeyboardInterrupt, to truncate traceback\u001b[0m\u001b[0;34m\u001b[0m\u001b[0;34m\u001b[0m\u001b[0m\n\u001b[0;32m--> 895\u001b[0;31m                 \u001b[0;32mraise\u001b[0m \u001b[0mKeyboardInterrupt\u001b[0m\u001b[0;34m(\u001b[0m\u001b[0;34m\"Interrupted by user\"\u001b[0m\u001b[0;34m)\u001b[0m \u001b[0;32mfrom\u001b[0m \u001b[0;32mNone\u001b[0m\u001b[0;34m\u001b[0m\u001b[0;34m\u001b[0m\u001b[0m\n\u001b[0m\u001b[1;32m    896\u001b[0m             \u001b[0;32mexcept\u001b[0m \u001b[0mException\u001b[0m \u001b[0;32mas\u001b[0m \u001b[0me\u001b[0m\u001b[0;34m:\u001b[0m\u001b[0;34m\u001b[0m\u001b[0;34m\u001b[0m\u001b[0m\n\u001b[1;32m    897\u001b[0m                 \u001b[0mself\u001b[0m\u001b[0;34m.\u001b[0m\u001b[0mlog\u001b[0m\u001b[0;34m.\u001b[0m\u001b[0mwarning\u001b[0m\u001b[0;34m(\u001b[0m\u001b[0;34m\"Invalid Message:\"\u001b[0m\u001b[0;34m,\u001b[0m \u001b[0mexc_info\u001b[0m\u001b[0;34m=\u001b[0m\u001b[0;32mTrue\u001b[0m\u001b[0;34m)\u001b[0m\u001b[0;34m\u001b[0m\u001b[0;34m\u001b[0m\u001b[0m\n",
            "\u001b[0;31mKeyboardInterrupt\u001b[0m: Interrupted by user"
          ]
        }
      ]
    }
  ]
}