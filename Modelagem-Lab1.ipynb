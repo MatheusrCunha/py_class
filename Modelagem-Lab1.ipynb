{
  "nbformat": 4,
  "nbformat_minor": 0,
  "metadata": {
    "colab": {
      "provenance": [],
      "authorship_tag": "ABX9TyN5kA1D7X0iH5RQWUhpaaAd",
      "include_colab_link": true
    },
    "kernelspec": {
      "name": "python3",
      "display_name": "Python 3"
    },
    "language_info": {
      "name": "python"
    }
  },
  "cells": [
    {
      "cell_type": "markdown",
      "metadata": {
        "id": "view-in-github",
        "colab_type": "text"
      },
      "source": [
        "<a href=\"https://colab.research.google.com/github/MatheusrCunha/py_class/blob/main/Modelagem-Lab1.ipynb\" target=\"_parent\"><img src=\"https://colab.research.google.com/assets/colab-badge.svg\" alt=\"Open In Colab\"/></a>"
      ]
    },
    {
      "cell_type": "code",
      "execution_count": 2,
      "metadata": {
        "colab": {
          "base_uri": "https://localhost:8080/"
        },
        "id": "nKmQhTQM9nvc",
        "outputId": "48f094f5-8955-4ba7-ee21-984ada9244b2"
      },
      "outputs": [
        {
          "output_type": "stream",
          "name": "stdout",
          "text": [
            "Collecting control\n",
            "  Downloading control-0.9.4-py3-none-any.whl (455 kB)\n",
            "\u001b[?25l     \u001b[90m━━━━━━━━━━━━━━━━━━━━━━━━━━━━━━━━━━━━━━━━\u001b[0m \u001b[32m0.0/455.1 kB\u001b[0m \u001b[31m?\u001b[0m eta \u001b[36m-:--:--\u001b[0m\r\u001b[2K     \u001b[91m━━━━━━\u001b[0m\u001b[90m╺\u001b[0m\u001b[90m━━━━━━━━━━━━━━━━━━━━━━━━━━━━━━━━━\u001b[0m \u001b[32m71.7/455.1 kB\u001b[0m \u001b[31m1.9 MB/s\u001b[0m eta \u001b[36m0:00:01\u001b[0m\r\u001b[2K     \u001b[91m━━━━━━━━━━━━━━━━━━━━━━━━━━━━━━━━━━━━━━\u001b[0m\u001b[91m╸\u001b[0m \u001b[32m450.6/455.1 kB\u001b[0m \u001b[31m6.7 MB/s\u001b[0m eta \u001b[36m0:00:01\u001b[0m\r\u001b[2K     \u001b[90m━━━━━━━━━━━━━━━━━━━━━━━━━━━━━━━━━━━━━━━\u001b[0m \u001b[32m455.1/455.1 kB\u001b[0m \u001b[31m5.8 MB/s\u001b[0m eta \u001b[36m0:00:00\u001b[0m\n",
            "\u001b[?25hRequirement already satisfied: numpy in /usr/local/lib/python3.10/dist-packages (from control) (1.23.5)\n",
            "Requirement already satisfied: scipy>=1.3 in /usr/local/lib/python3.10/dist-packages (from control) (1.10.1)\n",
            "Requirement already satisfied: matplotlib in /usr/local/lib/python3.10/dist-packages (from control) (3.7.1)\n",
            "Requirement already satisfied: contourpy>=1.0.1 in /usr/local/lib/python3.10/dist-packages (from matplotlib->control) (1.1.0)\n",
            "Requirement already satisfied: cycler>=0.10 in /usr/local/lib/python3.10/dist-packages (from matplotlib->control) (0.11.0)\n",
            "Requirement already satisfied: fonttools>=4.22.0 in /usr/local/lib/python3.10/dist-packages (from matplotlib->control) (4.42.0)\n",
            "Requirement already satisfied: kiwisolver>=1.0.1 in /usr/local/lib/python3.10/dist-packages (from matplotlib->control) (1.4.4)\n",
            "Requirement already satisfied: packaging>=20.0 in /usr/local/lib/python3.10/dist-packages (from matplotlib->control) (23.1)\n",
            "Requirement already satisfied: pillow>=6.2.0 in /usr/local/lib/python3.10/dist-packages (from matplotlib->control) (9.4.0)\n",
            "Requirement already satisfied: pyparsing>=2.3.1 in /usr/local/lib/python3.10/dist-packages (from matplotlib->control) (3.1.1)\n",
            "Requirement already satisfied: python-dateutil>=2.7 in /usr/local/lib/python3.10/dist-packages (from matplotlib->control) (2.8.2)\n",
            "Requirement already satisfied: six>=1.5 in /usr/local/lib/python3.10/dist-packages (from python-dateutil>=2.7->matplotlib->control) (1.16.0)\n",
            "Installing collected packages: control\n",
            "Successfully installed control-0.9.4\n"
          ]
        }
      ],
      "source": [
        "pip install control"
      ]
    },
    {
      "cell_type": "code",
      "source": [
        "import control as clt\n",
        "import numpy as np\n",
        "import scipy.signal as sg\n",
        "import numpy as np\n",
        "\n",
        "v = [1, 2, 3, 4, 5]\n",
        "print(v)\n",
        "n = [5, 3]\n",
        "d = [1, 6, 11, 6]\n",
        "G1 = clt.tf(n, d)\n",
        "print(G1)\n",
        "\n",
        "rn = np.roots(n)\n",
        "rd = np.roots(d)\n",
        "\n",
        "print(rn)\n",
        "print(rd)\n",
        "\n",
        "r, p, k = sg.residue(n, d)\n",
        "print(r)\n",
        "\n",
        "#reshape vetor em python"
      ],
      "metadata": {
        "colab": {
          "base_uri": "https://localhost:8080/"
        },
        "id": "osfkkDpL_JKG",
        "outputId": "e2685127-3bdb-470c-b3e6-838df84e2b6d"
      },
      "execution_count": 21,
      "outputs": [
        {
          "output_type": "stream",
          "name": "stdout",
          "text": [
            "[1, 2, 3, 4, 5]\n",
            "\n",
            "       5 s + 3\n",
            "----------------------\n",
            "s^3 + 6 s^2 + 11 s + 6\n",
            "\n",
            "[-0.6]\n",
            "[-3. -2. -1.]\n",
            "[-1.  7. -6.]\n"
          ]
        }
      ]
    },
    {
      "cell_type": "code",
      "source": [
        "import numpy as np\n",
        "lista = list(range(-10, 13, 2))\n",
        "print(lista)\n",
        "\n",
        "lista = list(range(-10, 13, 2))\n",
        "#lista_coluna = np.arange(1, 10, -1.5)\n",
        "z = np.arange(1, -10, -1.5)\n",
        "lista_coluna = z.reshape(-1, 1)\n",
        "print(lista_coluna)\n",
        "\n",
        "element_1 = lista_coluna[2] ** 2\n",
        "element_2 = lista_coluna[5] ** 2\n",
        "print(element_1)\n",
        "print(element_2)\n",
        "\n",
        "array = np.random.randint(10, size=(2, 5))\n",
        "print(array)\n",
        "\n",
        "n = [1, 4]\n",
        "d = [1, 1, 1, -1, 1, 2]\n",
        "G1 = clt.tf(n, d)\n",
        "print(G1)"
      ],
      "metadata": {
        "colab": {
          "base_uri": "https://localhost:8080/"
        },
        "id": "BWiAiY3qD5kE",
        "outputId": "3d000e3b-487a-4e60-e614-f9952247b1c1"
      },
      "execution_count": 35,
      "outputs": [
        {
          "output_type": "stream",
          "name": "stdout",
          "text": [
            "[-10, -8, -6, -4, -2, 0, 2, 4, 6, 8, 10, 12]\n",
            "[[ 1. ]\n",
            " [-0.5]\n",
            " [-2. ]\n",
            " [-3.5]\n",
            " [-5. ]\n",
            " [-6.5]\n",
            " [-8. ]\n",
            " [-9.5]]\n",
            "[4.]\n",
            "[42.25]\n",
            "[[3 4 7 7 8]\n",
            " [9 5 7 9 4]]\n",
            "\n",
            "            s + 4\n",
            "-----------------------------\n",
            "s^5 + s^4 + s^3 - s^2 + s + 2\n",
            "\n"
          ]
        }
      ]
    }
  ]
}